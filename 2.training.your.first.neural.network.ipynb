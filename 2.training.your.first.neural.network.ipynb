{
 "cells": [
  {
   "cell_type": "markdown",
   "metadata": {},
   "source": [
    "# Deep Learning with PyTorch\n",
    "\n",
    "\n"

   ]
  },
  {
   "cell_type": "markdown",
   "metadata": {},
   "source": [
    "### Import all assets"
   ]
  },
  {
   "cell_type": "code",
   "execution_count": 1,
   "metadata": {},
   "outputs": [],
   "source": [
    "%matplotlib inline\n",
    "%config InlineBackend.figure_format = 'retina'\n",
    "\n",
    "import numpy as np\n",
    "import torch\n",
    "\n",
    "\n",
    "import matplotlib.pyplot as plt\n",
    "from torchvision import datasets, transforms\n",
    "from torch import nn\n",
    "from torch import optim\n",
    "import torch.nn.functional as F\n",
    "\n",
    "# Custom DataSet\n",
    "from data import iris\n",
    "from data import helper"
   ]
  },
  {
   "cell_type": "code",
   "execution_count": 2,
   "metadata": {},
   "outputs": [
    {
     "name": "stdout",
     "output_type": "stream",
     "text": [
      "# instances in training set:  1\n",
      "# instances in testing/validation set:  293\n",
      "tensor([[-0.6500, -0.1400, -0.8200,  0.7100, -0.6500,  0.9900, -0.6500,  0.5400,\n",
      "         -0.9900, -0.1400]])\n",
      "tensor([1])\n"
     ]
    }
   ],
   "source": [
    "# Get the datasets\n",
    "iris_data_file = 'data/sand.txt'\n",
    "train_ds, test_ds = iris.get_datasets(iris_data_file)\n",
    "\n",
    "# How many instances have we got?\n",
    "print('# instances in training set: ', len(train_ds))\n",
    "print('# instances in testing/validation set: ', len(test_ds))\n",
    "\n",
    "\n",
    "train_loader = torch.utils.data.DataLoader(dataset=test_ds, batch_size= 1, shuffle=True)\n",
    "test_loader  = torch.utils.data.DataLoader(dataset=test_ds, batch_size=1, shuffle=True)\n",
    "dataiter = iter(train_loader)\n",
    "images, labels = dataiter.next()\n",
    "m = images.mean()\n",
    "s = images.std()\n",
    "#images = (images - m)/s\n",
    "print(images)\n",
    "print(labels)\n",
    "\n"
   ]
  },
  {
   "cell_type": "markdown",
   "metadata": {},
   "source": [
    "### Create the Fully Connected Feed Forward Neural Network"
   ]
  },
  {
   "cell_type": "markdown",
   "metadata": {},
   "source": [
    "**Create the module**"
   ]
  },
  {
   "cell_type": "code",
   "execution_count": 3,
   "metadata": {},
   "outputs": [],
   "source": [
    "class Network(nn.Module):\n",
    "    def __init__(self, input_size, output_size, hidden_layers, drop_p=0.5):\n",
    "        ''' Builds a feedforward network with arbitrary hidden layers.\n",
    "        \n",
    "            Arguments\n",
    "            ---------\n",
    "            input_size: integer, size of the input\n",
    "            output_size: integer, size of the output layer\n",
    "            hidden_layers: list of integers, the sizes of the hidden layers\n",
    "            drop_p: float between 0 and 1, dropout probability\n",
    "        '''\n",
    "        super().__init__()\n",
    "        # Add the first layer, input to a hidden layer\n",
    "        self.hidden_layers = nn.ModuleList([nn.Linear(input_size, hidden_layers[0])])\n",
    "        \n",
    "        # Add a variable number of more hidden layers\n",
    "        layer_sizes = zip(hidden_layers[:-1], hidden_layers[1:])\n",
    "        self.hidden_layers.extend([nn.Linear(h1, h2) for h1, h2 in layer_sizes])\n",
    "        \n",
    "        self.output = nn.Linear(hidden_layers[-1], output_size)\n",
    "        \n",
    "        self.dropout = nn.Dropout(p=drop_p)\n",
    "        \n",
    "    def forward(self, x):\n",
    "        ''' Forward pass through the network, returns the output logits '''\n",
    "        \n",
    "        # Forward through each layer in `hidden_layers`, with ReLU activation and dropout\n",
    "        for linear in self.hidden_layers:\n",
    "            x = F.relu(linear(x))\n",
    "            x = self.dropout(x)\n",
    "        \n",
    "        x = self.output(x)\n",
    "\n",
    "        return F.log_softmax(x, dim=1)\n",
    "\n"
   ]
  },
  {
   "cell_type": "markdown",
   "metadata": {},
   "source": [
    "**Print the module**"
   ]
  },
  {
   "cell_type": "code",
   "execution_count": 4,
   "metadata": {},
   "outputs": [],
   "source": [
    "# Create the network, define the criterion and optimizer\n",
    "model = Network(10, 10, [ 128,64 ,64,16], drop_p=0.5)\n",
    "criterion = nn.NLLLoss()\n",
    "optimizer = optim.Adam(model.parameters(), lr=0.001)\n"
   ]
  },
  {
   "cell_type": "markdown",
   "metadata": {},
   "source": [
    "### Create the DataLoader"
   ]
  },
  {
   "cell_type": "markdown",
   "metadata": {},
   "source": [
    "### Instantiate the network, the loss function and the optimizer"
   ]
  },
  {
   "cell_type": "code",
   "execution_count": 5,
   "metadata": {},
   "outputs": [
    {
     "data": {
      "image/png": "[encoded data removed]",
      "text/plain": [
       "<Figure size 432x648 with 2 Axes>"
      ]
     },
     "metadata": {
      "image/png": {
       "height": 640,
       "width": 423
      }
     },
     "output_type": "display_data"
    }
   ],
   "source": [
    "# Grab some data\n",
    "dataiter = iter(train_loader)\n",
    "images, labels = dataiter.next()\n",
    "\n",
    "images.resize_(1, 1,10)\n",
    "\n",
    "img_idx = 0\n",
    "ps = model.forward(images[img_idx,:])\n",
    "\n",
    "img = images[img_idx]\n",
    "helper.view_classify(ps)"
   ]
  },
  {
   "cell_type": "markdown",
   "metadata": {},
   "source": [
    "### Train it!"
   ]
  },
  {
   "cell_type": "markdown",
   "metadata": {},
   "source": [
    "Plot loss vs iterations"
   ]
  },
  {
   "cell_type": "markdown",
   "metadata": {},
   "source": [
    "### Savign the model to disk, and loading it back"
   ]
  },
  {
   "cell_type": "code",
   "execution_count": 6,
   "metadata": {},
   "outputs": [
    {
     "name": "stdout",
     "output_type": "stream",
     "text": [
      "Epoch: 3/300...  Loss: 0.4928\n",
      "Epoch: 6/300...  Loss: 0.3036\n",
      "Epoch: 9/300...  Loss: 0.1220\n",
      "Epoch: 11/300...  Loss: 0.5788\n",
      "Epoch: 14/300...  Loss: 0.4054\n",
      "Epoch: 17/300...  Loss: 0.2361\n",
      "Epoch: 20/300...  Loss: 0.0688\n",
      "Epoch: 22/300...  Loss: 0.5134\n",
      "Epoch: 25/300...  Loss: 0.3512\n",
      "Epoch: 28/300...  Loss: 0.1795\n",
      "Epoch: 31/300...  Loss: 0.0210\n",
      "Epoch: 33/300...  Loss: 0.4580\n",
      "Epoch: 36/300...  Loss: 0.2907\n",
      "Epoch: 39/300...  Loss: 0.1244\n",
      "Epoch: 41/300...  Loss: 0.5548\n",
      "Epoch: 44/300...  Loss: 0.4003\n",
      "Epoch: 47/300...  Loss: 0.2346\n",
      "Epoch: 50/300...  Loss: 0.0850\n",
      "Epoch: 52/300...  Loss: 0.5024\n",
      "Epoch: 55/300...  Loss: 0.3449\n",
      "Epoch: 58/300...  Loss: 0.1877\n",
      "Epoch: 61/300...  Loss: 0.0357\n",
      "Epoch: 63/300...  Loss: 0.4458\n",
      "Epoch: 66/300...  Loss: 0.3042\n",
      "Epoch: 69/300...  Loss: 0.1398\n",
      "Epoch: 71/300...  Loss: 0.5514\n",
      "Epoch: 74/300...  Loss: 0.4018\n",
      "Epoch: 77/300...  Loss: 0.2418\n",
      "Epoch: 80/300...  Loss: 0.1021\n",
      "Epoch: 82/300...  Loss: 0.5111\n",
      "Epoch: 85/300...  Loss: 0.3482\n",
      "Epoch: 88/300...  Loss: 0.2000\n",
      "Epoch: 91/300...  Loss: 0.0511\n",
      "Epoch: 93/300...  Loss: 0.4563\n",
      "Epoch: 96/300...  Loss: 0.3187\n",
      "Epoch: 99/300...  Loss: 0.1545\n",
      "Epoch: 102/300...  Loss: 0.0155\n",
      "Epoch: 104/300...  Loss: 0.4107\n",
      "Epoch: 107/300...  Loss: 0.2469\n",
      "Epoch: 110/300...  Loss: 0.1136\n",
      "Epoch: 112/300...  Loss: 0.4980\n",
      "Epoch: 115/300...  Loss: 0.3525\n",
      "Epoch: 118/300...  Loss: 0.2193\n",
      "Epoch: 121/300...  Loss: 0.0707\n",
      "Epoch: 123/300...  Loss: 0.4516\n",
      "Epoch: 126/300...  Loss: 0.3279\n",
      "Epoch: 129/300...  Loss: 0.1739\n",
      "Epoch: 132/300...  Loss: 0.0254\n",
      "Epoch: 134/300...  Loss: 0.4308\n",
      "Epoch: 137/300...  Loss: 0.2843\n",
      "Epoch: 140/300...  Loss: 0.1218\n",
      "Epoch: 142/300...  Loss: 0.5470\n",
      "Epoch: 145/300...  Loss: 0.3725\n",
      "Epoch: 148/300...  Loss: 0.2336\n",
      "Epoch: 151/300...  Loss: 0.0851\n",
      "Epoch: 153/300...  Loss: 0.4701\n",
      "Epoch: 156/300...  Loss: 0.3284\n",
      "Epoch: 159/300...  Loss: 0.1797\n",
      "Epoch: 162/300...  Loss: 0.0497\n",
      "Epoch: 164/300...  Loss: 0.4196\n",
      "Epoch: 167/300...  Loss: 0.2966\n",
      "Epoch: 170/300...  Loss: 0.1586\n",
      "Epoch: 173/300...  Loss: 0.0068\n",
      "Epoch: 175/300...  Loss: 0.3795\n",
      "Epoch: 178/300...  Loss: 0.2439\n",
      "Epoch: 181/300...  Loss: 0.1158\n",
      "Epoch: 183/300...  Loss: 0.4733\n",
      "Epoch: 186/300...  Loss: 0.3324\n",
      "Epoch: 189/300...  Loss: 0.2028\n",
      "Epoch: 192/300...  Loss: 0.0617\n",
      "Epoch: 194/300...  Loss: 0.4441\n",
      "Epoch: 197/300...  Loss: 0.3096\n",
      "Epoch: 200/300...  Loss: 0.1558\n",
      "Epoch: 203/300...  Loss: 0.0237\n",
      "Epoch: 205/300...  Loss: 0.4184\n",
      "Epoch: 208/300...  Loss: 0.2580\n",
      "Epoch: 211/300...  Loss: 0.1136\n",
      "Epoch: 213/300...  Loss: 0.5120\n",
      "Epoch: 216/300...  Loss: 0.3632\n",
      "Epoch: 219/300...  Loss: 0.2251\n",
      "Epoch: 222/300...  Loss: 0.0768\n",
      "Epoch: 224/300...  Loss: 0.4587\n",
      "Epoch: 227/300...  Loss: 0.3248\n",
      "Epoch: 230/300...  Loss: 0.1787\n",
      "Epoch: 233/300...  Loss: 0.0411\n",
      "Epoch: 235/300...  Loss: 0.4018\n",
      "Epoch: 238/300...  Loss: 0.2622\n",
      "Epoch: 241/300...  Loss: 0.1222\n",
      "Epoch: 244/300...  Loss: 0.0003\n",
      "Epoch: 246/300...  Loss: 0.3554\n",
      "Epoch: 249/300...  Loss: 0.2303\n",
      "Epoch: 252/300...  Loss: 0.0937\n",
      "Epoch: 254/300...  Loss: 0.4633\n",
      "Epoch: 257/300...  Loss: 0.3296\n",
      "Epoch: 260/300...  Loss: 0.1816\n",
      "Epoch: 263/300...  Loss: 0.0604\n",
      "Epoch: 265/300...  Loss: 0.4141\n",
      "Epoch: 268/300...  Loss: 0.2898\n",
      "Epoch: 271/300...  Loss: 0.1394\n",
      "Epoch: 274/300...  Loss: 0.0188\n",
      "Epoch: 276/300...  Loss: 0.3679\n",
      "Epoch: 279/300...  Loss: 0.2433\n",
      "Epoch: 282/300...  Loss: 0.1053\n",
      "Epoch: 284/300...  Loss: 0.4469\n",
      "Epoch: 287/300...  Loss: 0.3405\n",
      "Epoch: 290/300...  Loss: 0.2111\n",
      "Epoch: 293/300...  Loss: 0.0691\n",
      "Epoch: 295/300...  Loss: 0.4302\n",
      "Epoch: 298/300...  Loss: 0.2883\n",
      "87900\n"
     ]
    }
   ],
   "source": [
    "epochs = 300\n",
    "print_every = 800\n",
    "steps = 0\n",
    "for e in range(epochs):\n",
    "    running_loss = 0\n",
    "    for images, labels in iter(train_loader):\n",
    "        \n",
    "        #m = images.mean()\n",
    "        #images = (images - m)/ s\n",
    "        #print(images)\n",
    "        #print(labels)\n",
    "        steps += 1\n",
    "        # Flatten MNIST images into a 784 long vector\n",
    "        images.resize_(images.size()[0], 10)\n",
    "        \n",
    "        optimizer.zero_grad()\n",
    "        \n",
    "        # Forward and backward passes\n",
    "        output = model.forward(images)\n",
    "        loss = criterion(output, labels)\n",
    "        loss.backward()\n",
    "        optimizer.step()\n",
    "        \n",
    "        running_loss += loss.item()\n",
    "        \n",
    "        if steps % print_every == 0:\n",
    "            print(\"Epoch: {}/{}... \".format(e+1, epochs),\n",
    "                  \"Loss: {:.4f}\".format(running_loss/print_every))\n",
    "            \n",
    "            running_loss = 0\n",
    "        \n",
    "        \n",
    "print(steps)"
   ]
  },
  {
   "cell_type": "code",
   "execution_count": 35,
   "metadata": {},
   "outputs": [
    {
     "name": "stdout",
     "output_type": "stream",
     "text": [
      "tensor([[3.4122e-01, 1.9140e-01, 1.7275e-01, 3.1717e-02, 5.2425e-02, 2.0843e-01,\n",
      "         1.7703e-09, 1.8926e-09, 2.0525e-03, 2.0100e-09]])\n",
      "tensor([5])\n"
     ]
    },
    {
     "data": {
      "image/png": "[encoded data removed]",
      "text/plain": [
       "<Figure size 432x648 with 2 Axes>"
      ]
     },
     "metadata": {
      "image/png": {
       "height": 640,
       "width": 423
      }
     },
     "output_type": "display_data"
    }
   ],
   "source": [
    "images, labels = next(iter(train_loader))\n",
    "x = torch.FloatTensor([[-0.99,0.03,-0.82,0.88,-0.48,0.54,-0.99,0.54,-0.48,-0.14]])\n",
    "\n",
    "img = images\n",
    "\n",
    "# Turn off gradients to speed up this part\n",
    "with torch.no_grad():\n",
    "    logits = model.forward(img)\n",
    "    \n",
    "\n",
    "\n",
    "# Output of the network are logits, need to take softmax for probabilities\n",
    "ps = F.softmax(logits, dim=1)\n",
    "\n",
    "helper.view_classify(ps)\n",
    "print(ps)\n",
    "print(labels)\n",
    "\n"
   ]
  },
  {
   "cell_type": "code",
   "execution_count": null,
   "metadata": {},
   "outputs": [],
   "source": []
  },
  {
   "cell_type": "code",
   "execution_count": null,
   "metadata": {},
   "outputs": [],
   "source": []
  }
 ],
 "metadata": {
  "kernelspec": {
   "display_name": "Python [default]",
   "language": "python",
   "name": "python3"
  },
  "language_info": {
   "codemirror_mode": {
    "name": "ipython",
    "version": 3
   },
   "file_extension": ".py",
   "mimetype": "text/x-python",
   "name": "python",
   "nbconvert_exporter": "python",
   "pygments_lexer": "ipython3",
   "version": "3.6.5"
  }
 },
 "nbformat": 4,
 "nbformat_minor": 2
}
